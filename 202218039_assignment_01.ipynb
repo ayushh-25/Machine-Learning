{
 "nbformat": 4,
 "nbformat_minor": 0,
 "metadata": {
  "colab": {
   "provenance": []
  },
  "kernelspec": {
   "name": "python3",
   "display_name": "Python 3"
  },
  "language_info": {
   "name": "python"
  }
 },
 "cells": [
  {
   "cell_type": "markdown",
   "source": [
    "# Assignment -1"
   ],
   "metadata": {
    "id": "I6LdufYyEFm2"
   }
  },
  {
   "cell_type": "code",
   "source": [
    "import pandas as pd\n",
    "import numpy as np\n",
    "import matplotlib.pyplot as plt"
   ],
   "metadata": {
    "id": "3PEJvW7WF2Zh",
    "executionInfo": {
     "status": "ok",
     "timestamp": 1675184279812,
     "user_tz": -330,
     "elapsed": 596,
     "user": {
      "displayName": "2022 18039",
      "userId": "06609566095069720826"
     }
    }
   },
   "execution_count": 1,
   "outputs": []
  },
  {
   "cell_type": "code",
   "execution_count": 2,
   "metadata": {
    "colab": {
     "base_uri": "https://localhost:8080/"
    },
    "id": "l-pTsiMaD7EW",
    "executionInfo": {
     "status": "ok",
     "timestamp": 1675184286317,
     "user_tz": -330,
     "elapsed": 6508,
     "user": {
      "displayName": "2022 18039",
      "userId": "06609566095069720826"
     }
    },
    "outputId": "ba50cbfa-dd7d-4125-e26b-e011bdaae1c6"
   },
   "outputs": [
    {
     "output_type": "stream",
     "name": "stdout",
     "text": [
      "Drive already mounted at /content/drive; to attempt to forcibly remount, call drive.mount(\"/content/drive\", force_remount=True).\n"
     ]
    }
   ],
   "source": [
    "from google.colab import drive\n",
    "drive.mount('/content/drive')"
   ]
  },
  {
   "cell_type": "markdown",
   "source": [
    "### **Q1:** Load Iris Dataset"
   ],
   "metadata": {
    "id": "XoJXiT49EeI8"
   }
  },
  {
   "cell_type": "code",
   "source": [
    "dataset = pd.read_excel('/content/drive/MyDrive/Files/Iris.xlsx')\n",
    "dataset"
   ],
   "metadata": {
    "colab": {
     "base_uri": "https://localhost:8080/",
     "height": 423
    },
    "id": "ETY84P-iF1NA",
    "executionInfo": {
     "status": "ok",
     "timestamp": 1675184286317,
     "user_tz": -330,
     "elapsed": 9,
     "user": {
      "displayName": "2022 18039",
      "userId": "06609566095069720826"
     }
    },
    "outputId": "03114232-5848-4b9c-d520-6c8d8715140c"
   },
   "execution_count": 3,
   "outputs": [
    {
     "output_type": "execute_result",
     "data": {
      "text/plain": [
       "        Id  SepalLengthCm  SepalWidthCm  PetalLengthCm  PetalWidthCm  \\\n",
       "0      1.0            5.1           3.5            1.4           0.2   \n",
       "1      2.0            4.9           3.0            1.4           0.2   \n",
       "2      3.0            4.7           3.2            1.3           0.2   \n",
       "3      4.0            4.6           3.1            1.5           0.2   \n",
       "4      5.0            5.0           3.6            1.4           0.2   \n",
       "..     ...            ...           ...            ...           ...   \n",
       "145  146.0            6.7           3.0            5.2           2.3   \n",
       "146  147.0            6.3           2.5            5.0           1.9   \n",
       "147  148.0            6.5           3.0            5.2           2.0   \n",
       "148  149.0            6.2           3.4            5.4           2.3   \n",
       "149  150.0            5.9           3.0            5.1           1.8   \n",
       "\n",
       "            Species  \n",
       "0       Iris-setosa  \n",
       "1       Iris-setosa  \n",
       "2       Iris-setosa  \n",
       "3       Iris-setosa  \n",
       "4       Iris-setosa  \n",
       "..              ...  \n",
       "145  Iris-virginica  \n",
       "146  Iris-virginica  \n",
       "147  Iris-virginica  \n",
       "148  Iris-virginica  \n",
       "149  Iris-virginica  \n",
       "\n",
       "[150 rows x 6 columns]"
      ],
      "text/html": [
       "\n",
       "  <div id=\"df-62d8b93a-94e3-4dae-a160-043612fee1e1\">\n",
       "    <div class=\"colab-df-container\">\n",
       "      <div>\n",
       "<style scoped>\n",
       "    .dataframe tbody tr th:only-of-type {\n",
       "        vertical-align: middle;\n",
       "    }\n",
       "\n",
       "    .dataframe tbody tr th {\n",
       "        vertical-align: top;\n",
       "    }\n",
       "\n",
       "    .dataframe thead th {\n",
       "        text-align: right;\n",
       "    }\n",
       "</style>\n",
       "<table border=\"1\" class=\"dataframe\">\n",
       "  <thead>\n",
       "    <tr style=\"text-align: right;\">\n",
       "      <th></th>\n",
       "      <th>Id</th>\n",
       "      <th>SepalLengthCm</th>\n",
       "      <th>SepalWidthCm</th>\n",
       "      <th>PetalLengthCm</th>\n",
       "      <th>PetalWidthCm</th>\n",
       "      <th>Species</th>\n",
       "    </tr>\n",
       "  </thead>\n",
       "  <tbody>\n",
       "    <tr>\n",
       "      <th>0</th>\n",
       "      <td>1.0</td>\n",
       "      <td>5.1</td>\n",
       "      <td>3.5</td>\n",
       "      <td>1.4</td>\n",
       "      <td>0.2</td>\n",
       "      <td>Iris-setosa</td>\n",
       "    </tr>\n",
       "    <tr>\n",
       "      <th>1</th>\n",
       "      <td>2.0</td>\n",
       "      <td>4.9</td>\n",
       "      <td>3.0</td>\n",
       "      <td>1.4</td>\n",
       "      <td>0.2</td>\n",
       "      <td>Iris-setosa</td>\n",
       "    </tr>\n",
       "    <tr>\n",
       "      <th>2</th>\n",
       "      <td>3.0</td>\n",
       "      <td>4.7</td>\n",
       "      <td>3.2</td>\n",
       "      <td>1.3</td>\n",
       "      <td>0.2</td>\n",
       "      <td>Iris-setosa</td>\n",
       "    </tr>\n",
       "    <tr>\n",
       "      <th>3</th>\n",
       "      <td>4.0</td>\n",
       "      <td>4.6</td>\n",
       "      <td>3.1</td>\n",
       "      <td>1.5</td>\n",
       "      <td>0.2</td>\n",
       "      <td>Iris-setosa</td>\n",
       "    </tr>\n",
       "    <tr>\n",
       "      <th>4</th>\n",
       "      <td>5.0</td>\n",
       "      <td>5.0</td>\n",
       "      <td>3.6</td>\n",
       "      <td>1.4</td>\n",
       "      <td>0.2</td>\n",
       "      <td>Iris-setosa</td>\n",
       "    </tr>\n",
       "    <tr>\n",
       "      <th>...</th>\n",
       "      <td>...</td>\n",
       "      <td>...</td>\n",
       "      <td>...</td>\n",
       "      <td>...</td>\n",
       "      <td>...</td>\n",
       "      <td>...</td>\n",
       "    </tr>\n",
       "    <tr>\n",
       "      <th>145</th>\n",
       "      <td>146.0</td>\n",
       "      <td>6.7</td>\n",
       "      <td>3.0</td>\n",
       "      <td>5.2</td>\n",
       "      <td>2.3</td>\n",
       "      <td>Iris-virginica</td>\n",
       "    </tr>\n",
       "    <tr>\n",
       "      <th>146</th>\n",
       "      <td>147.0</td>\n",
       "      <td>6.3</td>\n",
       "      <td>2.5</td>\n",
       "      <td>5.0</td>\n",
       "      <td>1.9</td>\n",
       "      <td>Iris-virginica</td>\n",
       "    </tr>\n",
       "    <tr>\n",
       "      <th>147</th>\n",
       "      <td>148.0</td>\n",
       "      <td>6.5</td>\n",
       "      <td>3.0</td>\n",
       "      <td>5.2</td>\n",
       "      <td>2.0</td>\n",
       "      <td>Iris-virginica</td>\n",
       "    </tr>\n",
       "    <tr>\n",
       "      <th>148</th>\n",
       "      <td>149.0</td>\n",
       "      <td>6.2</td>\n",
       "      <td>3.4</td>\n",
       "      <td>5.4</td>\n",
       "      <td>2.3</td>\n",
       "      <td>Iris-virginica</td>\n",
       "    </tr>\n",
       "    <tr>\n",
       "      <th>149</th>\n",
       "      <td>150.0</td>\n",
       "      <td>5.9</td>\n",
       "      <td>3.0</td>\n",
       "      <td>5.1</td>\n",
       "      <td>1.8</td>\n",
       "      <td>Iris-virginica</td>\n",
       "    </tr>\n",
       "  </tbody>\n",
       "</table>\n",
       "<p>150 rows × 6 columns</p>\n",
       "</div>\n",
       "      <button class=\"colab-df-convert\" onclick=\"convertToInteractive('df-62d8b93a-94e3-4dae-a160-043612fee1e1')\"\n",
       "              title=\"Convert this dataframe to an interactive table.\"\n",
       "              style=\"display:none;\">\n",
       "        \n",
       "  <svg xmlns=\"http://www.w3.org/2000/svg\" height=\"24px\"viewBox=\"0 0 24 24\"\n",
       "       width=\"24px\">\n",
       "    <path d=\"M0 0h24v24H0V0z\" fill=\"none\"/>\n",
       "    <path d=\"M18.56 5.44l.94 2.06.94-2.06 2.06-.94-2.06-.94-.94-2.06-.94 2.06-2.06.94zm-11 1L8.5 8.5l.94-2.06 2.06-.94-2.06-.94L8.5 2.5l-.94 2.06-2.06.94zm10 10l.94 2.06.94-2.06 2.06-.94-2.06-.94-.94-2.06-.94 2.06-2.06.94z\"/><path d=\"M17.41 7.96l-1.37-1.37c-.4-.4-.92-.59-1.43-.59-.52 0-1.04.2-1.43.59L10.3 9.45l-7.72 7.72c-.78.78-.78 2.05 0 2.83L4 21.41c.39.39.9.59 1.41.59.51 0 1.02-.2 1.41-.59l7.78-7.78 2.81-2.81c.8-.78.8-2.07 0-2.86zM5.41 20L4 18.59l7.72-7.72 1.47 1.35L5.41 20z\"/>\n",
       "  </svg>\n",
       "      </button>\n",
       "      \n",
       "  <style>\n",
       "    .colab-df-container {\n",
       "      display:flex;\n",
       "      flex-wrap:wrap;\n",
       "      gap: 12px;\n",
       "    }\n",
       "\n",
       "    .colab-df-convert {\n",
       "      background-color: #E8F0FE;\n",
       "      border: none;\n",
       "      border-radius: 50%;\n",
       "      cursor: pointer;\n",
       "      display: none;\n",
       "      fill: #1967D2;\n",
       "      height: 32px;\n",
       "      padding: 0 0 0 0;\n",
       "      width: 32px;\n",
       "    }\n",
       "\n",
       "    .colab-df-convert:hover {\n",
       "      background-color: #E2EBFA;\n",
       "      box-shadow: 0px 1px 2px rgba(60, 64, 67, 0.3), 0px 1px 3px 1px rgba(60, 64, 67, 0.15);\n",
       "      fill: #174EA6;\n",
       "    }\n",
       "\n",
       "    [theme=dark] .colab-df-convert {\n",
       "      background-color: #3B4455;\n",
       "      fill: #D2E3FC;\n",
       "    }\n",
       "\n",
       "    [theme=dark] .colab-df-convert:hover {\n",
       "      background-color: #434B5C;\n",
       "      box-shadow: 0px 1px 3px 1px rgba(0, 0, 0, 0.15);\n",
       "      filter: drop-shadow(0px 1px 2px rgba(0, 0, 0, 0.3));\n",
       "      fill: #FFFFFF;\n",
       "    }\n",
       "  </style>\n",
       "\n",
       "      <script>\n",
       "        const buttonEl =\n",
       "          document.querySelector('#df-62d8b93a-94e3-4dae-a160-043612fee1e1 button.colab-df-convert');\n",
       "        buttonEl.style.display =\n",
       "          google.colab.kernel.accessAllowed ? 'block' : 'none';\n",
       "\n",
       "        async function convertToInteractive(key) {\n",
       "          const element = document.querySelector('#df-62d8b93a-94e3-4dae-a160-043612fee1e1');\n",
       "          const dataTable =\n",
       "            await google.colab.kernel.invokeFunction('convertToInteractive',\n",
       "                                                     [key], {});\n",
       "          if (!dataTable) return;\n",
       "\n",
       "          const docLinkHtml = 'Like what you see? Visit the ' +\n",
       "            '<a target=\"_blank\" href=https://colab.research.google.com/notebooks/data_table.ipynb>data table notebook</a>'\n",
       "            + ' to learn more about interactive tables.';\n",
       "          element.innerHTML = '';\n",
       "          dataTable['output_type'] = 'display_data';\n",
       "          await google.colab.output.renderOutput(dataTable, element);\n",
       "          const docLink = document.createElement('div');\n",
       "          docLink.innerHTML = docLinkHtml;\n",
       "          element.appendChild(docLink);\n",
       "        }\n",
       "      </script>\n",
       "    </div>\n",
       "  </div>\n",
       "  "
      ]
     },
     "metadata": {},
     "execution_count": 3
    }
   ]
  },
  {
   "cell_type": "markdown",
   "source": [
    "### **Q2:** Find the mean, median, mode for one variable (sepal length) and plot histogram for the same."
   ],
   "metadata": {
    "id": "HExm1W0LEo0H"
   }
  },
  {
   "cell_type": "markdown",
   "source": [
    "#### Creating functions to find mean, median and mode:"
   ],
   "metadata": {
    "collapsed": false,
    "id": "ACFF2hpIswqb"
   }
  },
  {
   "cell_type": "code",
   "execution_count": 4,
   "outputs": [],
   "source": [
    "def mean(list):\n",
    "    temp = []\n",
    "    for i in list:\n",
    "        temp.append(i)\n",
    "    sum = 0\n",
    "    for i in temp :\n",
    "        sum = sum + i\n",
    "    avg = sum/len(temp)\n",
    "    return avg\n",
    "\n",
    "def median(list):\n",
    "    temp = []\n",
    "    for i in list:\n",
    "        temp.append(i)\n",
    "    temp.sort()\n",
    "    n = len(temp)\n",
    "    if n%2==0:\n",
    "        return (temp[(n//2)-1] + temp[n//2])/2\n",
    "    else:\n",
    "        return temp[n//2]\n",
    "\n",
    "def mode(list):\n",
    "    freq = {}\n",
    "    for item in list:\n",
    "        if item in freq:\n",
    "            freq[item] += 1\n",
    "        else:\n",
    "            freq[item] = 1\n",
    "    max_freq = 0\n",
    "    for key, value in freq.items():\n",
    "        if value > max_freq:\n",
    "            max_freq = value\n",
    "    mode = None\n",
    "    for key, value in freq.items():\n",
    "        if value == max_freq:\n",
    "            mode = key\n",
    "    return mode"
   ],
   "metadata": {
    "id": "7nAIg2g3swqb",
    "executionInfo": {
     "status": "ok",
     "timestamp": 1675184286318,
     "user_tz": -330,
     "elapsed": 8,
     "user": {
      "displayName": "2022 18039",
      "userId": "06609566095069720826"
     }
    }
   }
  },
  {
   "cell_type": "code",
   "execution_count": 5,
   "outputs": [
    {
     "output_type": "stream",
     "name": "stdout",
     "text": [
      "mean of sepal length:  5.843333333333335\n",
      "median of sepal length:  5.8\n",
      "mode of sepal length:  5.0\n"
     ]
    }
   ],
   "source": [
    "print('mean of sepal length: ',mean(dataset['SepalLengthCm']))\n",
    "print('median of sepal length: ',median(dataset['SepalLengthCm']))\n",
    "print('mode of sepal length: ',mode(dataset['SepalLengthCm']))"
   ],
   "metadata": {
    "colab": {
     "base_uri": "https://localhost:8080/"
    },
    "id": "Gj9c6KePFhTp",
    "executionInfo": {
     "status": "ok",
     "timestamp": 1675184286318,
     "user_tz": -330,
     "elapsed": 8,
     "user": {
      "displayName": "2022 18039",
      "userId": "06609566095069720826"
     }
    },
    "outputId": "d01e7d94-da14-46b7-e4d5-acd650e434d4"
   }
  },
  {
   "cell_type": "markdown",
   "source": [
    "#### Plotting Histogram of SepalLengthCm"
   ],
   "metadata": {
    "collapsed": false,
    "id": "vSS3Pydtswqc"
   }
  },
  {
   "cell_type": "code",
   "execution_count": 6,
   "outputs": [
    {
     "output_type": "display_data",
     "data": {
      "text/plain": [
       "<Figure size 720x864 with 1 Axes>"
      ],
      "image/png": "[encoded data removed]"
     },
     "metadata": {}
    }
   ],
   "source": [
    "plt.figure(figsize = (10,12) ,facecolor='w')\n",
    "plt.hist(dataset['SepalLengthCm'], bins=25, edgecolor='black', color='y')\n",
    "plt.title('Sepal Length Distribution in cm')\n",
    "plt.xlabel('SepalLengthCm')\n",
    "plt.show()"
   ],
   "metadata": {
    "colab": {
     "base_uri": "https://localhost:8080/",
     "height": 730
    },
    "id": "KwNMaAQXswqd",
    "executionInfo": {
     "status": "ok",
     "timestamp": 1675184287776,
     "user_tz": -330,
     "elapsed": 1464,
     "user": {
      "displayName": "2022 18039",
      "userId": "06609566095069720826"
     }
    },
    "outputId": "85b13661-f982-451b-e7a6-43d7218474c2"
   }
  },
  {
   "cell_type": "markdown",
   "source": [
    "### **Q3:** Consider the features sepal length and sepal width from the data and plot the scatter plot and find mean, and covariance matrix."
   ],
   "metadata": {
    "id": "CmGXIyUfEteR"
   }
  },
  {
   "cell_type": "markdown",
   "source": [
    "#### Plotting Scatter plot of Sepal length and Sepal Width"
   ],
   "metadata": {
    "collapsed": false,
    "id": "XB5XMfV-swqe"
   }
  },
  {
   "cell_type": "code",
   "execution_count": 7,
   "outputs": [
    {
     "output_type": "display_data",
     "data": {
      "text/plain": [
       "<Figure size 720x720 with 1 Axes>"
      ],
      "image/png": "[encoded data removed]"
     },
     "metadata": {}
    }
   ],
   "source": [
    "plt.figure(figsize = (10,10) ,facecolor='w')\n",
    "plt.scatter(dataset['SepalLengthCm'],dataset['SepalWidthCm'])\n",
    "plt.title('Scatter Plot of Sepal Length and Sepal Width')\n",
    "plt.xlabel('SepalLengthCm')\n",
    "plt.ylabel('SepalWidthCm')\n",
    "sepal_length_mean = mean(dataset['SepalLengthCm'])\n",
    "sepal_width_mean = mean(dataset['SepalWidthCm'])\n",
    "plt.plot(sepal_length_mean,sepal_width_mean, 'r*', markersize=9 ) #mean\n",
    "plt.show()"
   ],
   "metadata": {
    "colab": {
     "base_uri": "https://localhost:8080/",
     "height": 621
    },
    "id": "XbM0hD_tswqe",
    "executionInfo": {
     "status": "ok",
     "timestamp": 1675184287776,
     "user_tz": -330,
     "elapsed": 36,
     "user": {
      "displayName": "2022 18039",
      "userId": "06609566095069720826"
     }
    },
    "outputId": "45dd6714-a99b-4bd5-c73e-f9eb84a39dc0"
   }
  },
  {
   "cell_type": "markdown",
   "source": [
    "#### Finding Variance Covariance Matrix"
   ],
   "metadata": {
    "collapsed": false,
    "id": "tbpuPgl5swqe"
   }
  },
  {
   "cell_type": "code",
   "source": [
    "means_sl_sw = np.array((sepal_length_mean, sepal_width_mean))\n",
    "means =  [means_sl_sw]*150\n",
    "means"
   ],
   "metadata": {
    "id": "4PgbpOoDRDt5",
    "executionInfo": {
     "status": "ok",
     "timestamp": 1675184287777,
     "user_tz": -330,
     "elapsed": 36,
     "user": {
      "displayName": "2022 18039",
      "userId": "06609566095069720826"
     }
    },
    "colab": {
     "base_uri": "https://localhost:8080/"
    },
    "outputId": "d8e09abe-c398-48c6-ac87-7d5c2831a8f7"
   },
   "execution_count": 8,
   "outputs": [
    {
     "output_type": "execute_result",
     "data": {
      "text/plain": [
       "[array([5.84333333, 3.054     ]),\n",
       " array([5.84333333, 3.054     ]),\n",
       " array([5.84333333, 3.054     ]),\n",
       " array([5.84333333, 3.054     ]),\n",
       " array([5.84333333, 3.054     ]),\n",
       " array([5.84333333, 3.054     ]),\n",
       " array([5.84333333, 3.054     ]),\n",
       " array([5.84333333, 3.054     ]),\n",
       " array([5.84333333, 3.054     ]),\n",
       " array([5.84333333, 3.054     ]),\n",
       " array([5.84333333, 3.054     ]),\n",
       " array([5.84333333, 3.054     ]),\n",
       " array([5.84333333, 3.054     ]),\n",
       " array([5.84333333, 3.054     ]),\n",
       " array([5.84333333, 3.054     ]),\n",
       " array([5.84333333, 3.054     ]),\n",
       " array([5.84333333, 3.054     ]),\n",
       " array([5.84333333, 3.054     ]),\n",
       " array([5.84333333, 3.054     ]),\n",
       " array([5.84333333, 3.054     ]),\n",
       " array([5.84333333, 3.054     ]),\n",
       " array([5.84333333, 3.054     ]),\n",
       " array([5.84333333, 3.054     ]),\n",
       " array([5.84333333, 3.054     ]),\n",
       " array([5.84333333, 3.054     ]),\n",
       " array([5.84333333, 3.054     ]),\n",
       " array([5.84333333, 3.054     ]),\n",
       " array([5.84333333, 3.054     ]),\n",
       " array([5.84333333, 3.054     ]),\n",
       " array([5.84333333, 3.054     ]),\n",
       " array([5.84333333, 3.054     ]),\n",
       " array([5.84333333, 3.054     ]),\n",
       " array([5.84333333, 3.054     ]),\n",
       " array([5.84333333, 3.054     ]),\n",
       " array([5.84333333, 3.054     ]),\n",
       " array([5.84333333, 3.054     ]),\n",
       " array([5.84333333, 3.054     ]),\n",
       " array([5.84333333, 3.054     ]),\n",
       " array([5.84333333, 3.054     ]),\n",
       " array([5.84333333, 3.054     ]),\n",
       " array([5.84333333, 3.054     ]),\n",
       " array([5.84333333, 3.054     ]),\n",
       " array([5.84333333, 3.054     ]),\n",
       " array([5.84333333, 3.054     ]),\n",
       " array([5.84333333, 3.054     ]),\n",
       " array([5.84333333, 3.054     ]),\n",
       " array([5.84333333, 3.054     ]),\n",
       " array([5.84333333, 3.054     ]),\n",
       " array([5.84333333, 3.054     ]),\n",
       " array([5.84333333, 3.054     ]),\n",
       " array([5.84333333, 3.054     ]),\n",
       " array([5.84333333, 3.054     ]),\n",
       " array([5.84333333, 3.054     ]),\n",
       " array([5.84333333, 3.054     ]),\n",
       " array([5.84333333, 3.054     ]),\n",
       " array([5.84333333, 3.054     ]),\n",
       " array([5.84333333, 3.054     ]),\n",
       " array([5.84333333, 3.054     ]),\n",
       " array([5.84333333, 3.054     ]),\n",
       " array([5.84333333, 3.054     ]),\n",
       " array([5.84333333, 3.054     ]),\n",
       " array([5.84333333, 3.054     ]),\n",
       " array([5.84333333, 3.054     ]),\n",
       " array([5.84333333, 3.054     ]),\n",
       " array([5.84333333, 3.054     ]),\n",
       " array([5.84333333, 3.054     ]),\n",
       " array([5.84333333, 3.054     ]),\n",
       " array([5.84333333, 3.054     ]),\n",
       " array([5.84333333, 3.054     ]),\n",
       " array([5.84333333, 3.054     ]),\n",
       " array([5.84333333, 3.054     ]),\n",
       " array([5.84333333, 3.054     ]),\n",
       " array([5.84333333, 3.054     ]),\n",
       " array([5.84333333, 3.054     ]),\n",
       " array([5.84333333, 3.054     ]),\n",
       " array([5.84333333, 3.054     ]),\n",
       " array([5.84333333, 3.054     ]),\n",
       " array([5.84333333, 3.054     ]),\n",
       " array([5.84333333, 3.054     ]),\n",
       " array([5.84333333, 3.054     ]),\n",
       " array([5.84333333, 3.054     ]),\n",
       " array([5.84333333, 3.054     ]),\n",
       " array([5.84333333, 3.054     ]),\n",
       " array([5.84333333, 3.054     ]),\n",
       " array([5.84333333, 3.054     ]),\n",
       " array([5.84333333, 3.054     ]),\n",
       " array([5.84333333, 3.054     ]),\n",
       " array([5.84333333, 3.054     ]),\n",
       " array([5.84333333, 3.054     ]),\n",
       " array([5.84333333, 3.054     ]),\n",
       " array([5.84333333, 3.054     ]),\n",
       " array([5.84333333, 3.054     ]),\n",
       " array([5.84333333, 3.054     ]),\n",
       " array([5.84333333, 3.054     ]),\n",
       " array([5.84333333, 3.054     ]),\n",
       " array([5.84333333, 3.054     ]),\n",
       " array([5.84333333, 3.054     ]),\n",
       " array([5.84333333, 3.054     ]),\n",
       " array([5.84333333, 3.054     ]),\n",
       " array([5.84333333, 3.054     ]),\n",
       " array([5.84333333, 3.054     ]),\n",
       " array([5.84333333, 3.054     ]),\n",
       " array([5.84333333, 3.054     ]),\n",
       " array([5.84333333, 3.054     ]),\n",
       " array([5.84333333, 3.054     ]),\n",
       " array([5.84333333, 3.054     ]),\n",
       " array([5.84333333, 3.054     ]),\n",
       " array([5.84333333, 3.054     ]),\n",
       " array([5.84333333, 3.054     ]),\n",
       " array([5.84333333, 3.054     ]),\n",
       " array([5.84333333, 3.054     ]),\n",
       " array([5.84333333, 3.054     ]),\n",
       " array([5.84333333, 3.054     ]),\n",
       " array([5.84333333, 3.054     ]),\n",
       " array([5.84333333, 3.054     ]),\n",
       " array([5.84333333, 3.054     ]),\n",
       " array([5.84333333, 3.054     ]),\n",
       " array([5.84333333, 3.054     ]),\n",
       " array([5.84333333, 3.054     ]),\n",
       " array([5.84333333, 3.054     ]),\n",
       " array([5.84333333, 3.054     ]),\n",
       " array([5.84333333, 3.054     ]),\n",
       " array([5.84333333, 3.054     ]),\n",
       " array([5.84333333, 3.054     ]),\n",
       " array([5.84333333, 3.054     ]),\n",
       " array([5.84333333, 3.054     ]),\n",
       " array([5.84333333, 3.054     ]),\n",
       " array([5.84333333, 3.054     ]),\n",
       " array([5.84333333, 3.054     ]),\n",
       " array([5.84333333, 3.054     ]),\n",
       " array([5.84333333, 3.054     ]),\n",
       " array([5.84333333, 3.054     ]),\n",
       " array([5.84333333, 3.054     ]),\n",
       " array([5.84333333, 3.054     ]),\n",
       " array([5.84333333, 3.054     ]),\n",
       " array([5.84333333, 3.054     ]),\n",
       " array([5.84333333, 3.054     ]),\n",
       " array([5.84333333, 3.054     ]),\n",
       " array([5.84333333, 3.054     ]),\n",
       " array([5.84333333, 3.054     ]),\n",
       " array([5.84333333, 3.054     ]),\n",
       " array([5.84333333, 3.054     ]),\n",
       " array([5.84333333, 3.054     ]),\n",
       " array([5.84333333, 3.054     ]),\n",
       " array([5.84333333, 3.054     ]),\n",
       " array([5.84333333, 3.054     ]),\n",
       " array([5.84333333, 3.054     ]),\n",
       " array([5.84333333, 3.054     ]),\n",
       " array([5.84333333, 3.054     ]),\n",
       " array([5.84333333, 3.054     ])]"
      ]
     },
     "metadata": {},
     "execution_count": 8
    }
   ]
  },
  {
   "cell_type": "code",
   "source": [
    "vectors = np.array([dataset['SepalLengthCm'],dataset['SepalWidthCm']]).T\n",
    "vectors"
   ],
   "metadata": {
    "id": "ms-mUv8gRYR4",
    "executionInfo": {
     "status": "ok",
     "timestamp": 1675184287777,
     "user_tz": -330,
     "elapsed": 34,
     "user": {
      "displayName": "2022 18039",
      "userId": "06609566095069720826"
     }
    },
    "colab": {
     "base_uri": "https://localhost:8080/"
    },
    "outputId": "e4c315ab-1248-4313-cce5-0573c4e599d5"
   },
   "execution_count": 9,
   "outputs": [
    {
     "output_type": "execute_result",
     "data": {
      "text/plain": [
       "array([[5.1, 3.5],\n",
       "       [4.9, 3. ],\n",
       "       [4.7, 3.2],\n",
       "       [4.6, 3.1],\n",
       "       [5. , 3.6],\n",
       "       [5.4, 3.9],\n",
       "       [4.6, 3.4],\n",
       "       [5. , 3.4],\n",
       "       [4.4, 2.9],\n",
       "       [4.9, 3.1],\n",
       "       [5.4, 3.7],\n",
       "       [4.8, 3.4],\n",
       "       [4.8, 3. ],\n",
       "       [4.3, 3. ],\n",
       "       [5.8, 4. ],\n",
       "       [5.7, 4.4],\n",
       "       [5.4, 3.9],\n",
       "       [5.1, 3.5],\n",
       "       [5.7, 3.8],\n",
       "       [5.1, 3.8],\n",
       "       [5.4, 3.4],\n",
       "       [5.1, 3.7],\n",
       "       [4.6, 3.6],\n",
       "       [5.1, 3.3],\n",
       "       [4.8, 3.4],\n",
       "       [5. , 3. ],\n",
       "       [5. , 3.4],\n",
       "       [5.2, 3.5],\n",
       "       [5.2, 3.4],\n",
       "       [4.7, 3.2],\n",
       "       [4.8, 3.1],\n",
       "       [5.4, 3.4],\n",
       "       [5.2, 4.1],\n",
       "       [5.5, 4.2],\n",
       "       [4.9, 3.1],\n",
       "       [5. , 3.2],\n",
       "       [5.5, 3.5],\n",
       "       [4.9, 3.1],\n",
       "       [4.4, 3. ],\n",
       "       [5.1, 3.4],\n",
       "       [5. , 3.5],\n",
       "       [4.5, 2.3],\n",
       "       [4.4, 3.2],\n",
       "       [5. , 3.5],\n",
       "       [5.1, 3.8],\n",
       "       [4.8, 3. ],\n",
       "       [5.1, 3.8],\n",
       "       [4.6, 3.2],\n",
       "       [5.3, 3.7],\n",
       "       [5. , 3.3],\n",
       "       [7. , 3.2],\n",
       "       [6.4, 3.2],\n",
       "       [6.9, 3.1],\n",
       "       [5.5, 2.3],\n",
       "       [6.5, 2.8],\n",
       "       [5.7, 2.8],\n",
       "       [6.3, 3.3],\n",
       "       [4.9, 2.4],\n",
       "       [6.6, 2.9],\n",
       "       [5.2, 2.7],\n",
       "       [5. , 2. ],\n",
       "       [5.9, 3. ],\n",
       "       [6. , 2.2],\n",
       "       [6.1, 2.9],\n",
       "       [5.6, 2.9],\n",
       "       [6.7, 3.1],\n",
       "       [5.6, 3. ],\n",
       "       [5.8, 2.7],\n",
       "       [6.2, 2.2],\n",
       "       [5.6, 2.5],\n",
       "       [5.9, 3.2],\n",
       "       [6.1, 2.8],\n",
       "       [6.3, 2.5],\n",
       "       [6.1, 2.8],\n",
       "       [6.4, 2.9],\n",
       "       [6.6, 3. ],\n",
       "       [6.8, 2.8],\n",
       "       [6.7, 3. ],\n",
       "       [6. , 2.9],\n",
       "       [5.7, 2.6],\n",
       "       [5.5, 2.4],\n",
       "       [5.5, 2.4],\n",
       "       [5.8, 2.7],\n",
       "       [6. , 2.7],\n",
       "       [5.4, 3. ],\n",
       "       [6. , 3.4],\n",
       "       [6.7, 3.1],\n",
       "       [6.3, 2.3],\n",
       "       [5.6, 3. ],\n",
       "       [5.5, 2.5],\n",
       "       [5.5, 2.6],\n",
       "       [6.1, 3. ],\n",
       "       [5.8, 2.6],\n",
       "       [5. , 2.3],\n",
       "       [5.6, 2.7],\n",
       "       [5.7, 3. ],\n",
       "       [5.7, 2.9],\n",
       "       [6.2, 2.9],\n",
       "       [5.1, 2.5],\n",
       "       [5.7, 2.8],\n",
       "       [6.3, 3.3],\n",
       "       [5.8, 2.7],\n",
       "       [7.1, 3. ],\n",
       "       [6.3, 2.9],\n",
       "       [6.5, 3. ],\n",
       "       [7.6, 3. ],\n",
       "       [4.9, 2.5],\n",
       "       [7.3, 2.9],\n",
       "       [6.7, 2.5],\n",
       "       [7.2, 3.6],\n",
       "       [6.5, 3.2],\n",
       "       [6.4, 2.7],\n",
       "       [6.8, 3. ],\n",
       "       [5.7, 2.5],\n",
       "       [5.8, 2.8],\n",
       "       [6.4, 3.2],\n",
       "       [6.5, 3. ],\n",
       "       [7.7, 3.8],\n",
       "       [7.7, 2.6],\n",
       "       [6. , 2.2],\n",
       "       [6.9, 3.2],\n",
       "       [5.6, 2.8],\n",
       "       [7.7, 2.8],\n",
       "       [6.3, 2.7],\n",
       "       [6.7, 3.3],\n",
       "       [7.2, 3.2],\n",
       "       [6.2, 2.8],\n",
       "       [6.1, 3. ],\n",
       "       [6.4, 2.8],\n",
       "       [7.2, 3. ],\n",
       "       [7.4, 2.8],\n",
       "       [7.9, 3.8],\n",
       "       [6.4, 2.8],\n",
       "       [6.3, 2.8],\n",
       "       [6.1, 2.6],\n",
       "       [7.7, 3. ],\n",
       "       [6.3, 3.4],\n",
       "       [6.4, 3.1],\n",
       "       [6. , 3. ],\n",
       "       [6.9, 3.1],\n",
       "       [6.7, 3.1],\n",
       "       [6.9, 3.1],\n",
       "       [5.8, 2.7],\n",
       "       [6.8, 3.2],\n",
       "       [6.7, 3.3],\n",
       "       [6.7, 3. ],\n",
       "       [6.3, 2.5],\n",
       "       [6.5, 3. ],\n",
       "       [6.2, 3.4],\n",
       "       [5.9, 3. ]])"
      ]
     },
     "metadata": {},
     "execution_count": 9
    }
   ]
  },
  {
   "cell_type": "code",
   "source": [
    "deviation = vectors  - means\n",
    "deviation"
   ],
   "metadata": {
    "colab": {
     "base_uri": "https://localhost:8080/"
    },
    "id": "Z8mO1nWKRMZg",
    "executionInfo": {
     "status": "ok",
     "timestamp": 1675184287777,
     "user_tz": -330,
     "elapsed": 29,
     "user": {
      "displayName": "2022 18039",
      "userId": "06609566095069720826"
     }
    },
    "outputId": "8884a6cd-1c2f-44ca-9915-6eec74a54584"
   },
   "execution_count": 10,
   "outputs": [
    {
     "output_type": "execute_result",
     "data": {
      "text/plain": [
       "array([[-0.74333333,  0.446     ],\n",
       "       [-0.94333333, -0.054     ],\n",
       "       [-1.14333333,  0.146     ],\n",
       "       [-1.24333333,  0.046     ],\n",
       "       [-0.84333333,  0.546     ],\n",
       "       [-0.44333333,  0.846     ],\n",
       "       [-1.24333333,  0.346     ],\n",
       "       [-0.84333333,  0.346     ],\n",
       "       [-1.44333333, -0.154     ],\n",
       "       [-0.94333333,  0.046     ],\n",
       "       [-0.44333333,  0.646     ],\n",
       "       [-1.04333333,  0.346     ],\n",
       "       [-1.04333333, -0.054     ],\n",
       "       [-1.54333333, -0.054     ],\n",
       "       [-0.04333333,  0.946     ],\n",
       "       [-0.14333333,  1.346     ],\n",
       "       [-0.44333333,  0.846     ],\n",
       "       [-0.74333333,  0.446     ],\n",
       "       [-0.14333333,  0.746     ],\n",
       "       [-0.74333333,  0.746     ],\n",
       "       [-0.44333333,  0.346     ],\n",
       "       [-0.74333333,  0.646     ],\n",
       "       [-1.24333333,  0.546     ],\n",
       "       [-0.74333333,  0.246     ],\n",
       "       [-1.04333333,  0.346     ],\n",
       "       [-0.84333333, -0.054     ],\n",
       "       [-0.84333333,  0.346     ],\n",
       "       [-0.64333333,  0.446     ],\n",
       "       [-0.64333333,  0.346     ],\n",
       "       [-1.14333333,  0.146     ],\n",
       "       [-1.04333333,  0.046     ],\n",
       "       [-0.44333333,  0.346     ],\n",
       "       [-0.64333333,  1.046     ],\n",
       "       [-0.34333333,  1.146     ],\n",
       "       [-0.94333333,  0.046     ],\n",
       "       [-0.84333333,  0.146     ],\n",
       "       [-0.34333333,  0.446     ],\n",
       "       [-0.94333333,  0.046     ],\n",
       "       [-1.44333333, -0.054     ],\n",
       "       [-0.74333333,  0.346     ],\n",
       "       [-0.84333333,  0.446     ],\n",
       "       [-1.34333333, -0.754     ],\n",
       "       [-1.44333333,  0.146     ],\n",
       "       [-0.84333333,  0.446     ],\n",
       "       [-0.74333333,  0.746     ],\n",
       "       [-1.04333333, -0.054     ],\n",
       "       [-0.74333333,  0.746     ],\n",
       "       [-1.24333333,  0.146     ],\n",
       "       [-0.54333333,  0.646     ],\n",
       "       [-0.84333333,  0.246     ],\n",
       "       [ 1.15666667,  0.146     ],\n",
       "       [ 0.55666667,  0.146     ],\n",
       "       [ 1.05666667,  0.046     ],\n",
       "       [-0.34333333, -0.754     ],\n",
       "       [ 0.65666667, -0.254     ],\n",
       "       [-0.14333333, -0.254     ],\n",
       "       [ 0.45666667,  0.246     ],\n",
       "       [-0.94333333, -0.654     ],\n",
       "       [ 0.75666667, -0.154     ],\n",
       "       [-0.64333333, -0.354     ],\n",
       "       [-0.84333333, -1.054     ],\n",
       "       [ 0.05666667, -0.054     ],\n",
       "       [ 0.15666667, -0.854     ],\n",
       "       [ 0.25666667, -0.154     ],\n",
       "       [-0.24333333, -0.154     ],\n",
       "       [ 0.85666667,  0.046     ],\n",
       "       [-0.24333333, -0.054     ],\n",
       "       [-0.04333333, -0.354     ],\n",
       "       [ 0.35666667, -0.854     ],\n",
       "       [-0.24333333, -0.554     ],\n",
       "       [ 0.05666667,  0.146     ],\n",
       "       [ 0.25666667, -0.254     ],\n",
       "       [ 0.45666667, -0.554     ],\n",
       "       [ 0.25666667, -0.254     ],\n",
       "       [ 0.55666667, -0.154     ],\n",
       "       [ 0.75666667, -0.054     ],\n",
       "       [ 0.95666667, -0.254     ],\n",
       "       [ 0.85666667, -0.054     ],\n",
       "       [ 0.15666667, -0.154     ],\n",
       "       [-0.14333333, -0.454     ],\n",
       "       [-0.34333333, -0.654     ],\n",
       "       [-0.34333333, -0.654     ],\n",
       "       [-0.04333333, -0.354     ],\n",
       "       [ 0.15666667, -0.354     ],\n",
       "       [-0.44333333, -0.054     ],\n",
       "       [ 0.15666667,  0.346     ],\n",
       "       [ 0.85666667,  0.046     ],\n",
       "       [ 0.45666667, -0.754     ],\n",
       "       [-0.24333333, -0.054     ],\n",
       "       [-0.34333333, -0.554     ],\n",
       "       [-0.34333333, -0.454     ],\n",
       "       [ 0.25666667, -0.054     ],\n",
       "       [-0.04333333, -0.454     ],\n",
       "       [-0.84333333, -0.754     ],\n",
       "       [-0.24333333, -0.354     ],\n",
       "       [-0.14333333, -0.054     ],\n",
       "       [-0.14333333, -0.154     ],\n",
       "       [ 0.35666667, -0.154     ],\n",
       "       [-0.74333333, -0.554     ],\n",
       "       [-0.14333333, -0.254     ],\n",
       "       [ 0.45666667,  0.246     ],\n",
       "       [-0.04333333, -0.354     ],\n",
       "       [ 1.25666667, -0.054     ],\n",
       "       [ 0.45666667, -0.154     ],\n",
       "       [ 0.65666667, -0.054     ],\n",
       "       [ 1.75666667, -0.054     ],\n",
       "       [-0.94333333, -0.554     ],\n",
       "       [ 1.45666667, -0.154     ],\n",
       "       [ 0.85666667, -0.554     ],\n",
       "       [ 1.35666667,  0.546     ],\n",
       "       [ 0.65666667,  0.146     ],\n",
       "       [ 0.55666667, -0.354     ],\n",
       "       [ 0.95666667, -0.054     ],\n",
       "       [-0.14333333, -0.554     ],\n",
       "       [-0.04333333, -0.254     ],\n",
       "       [ 0.55666667,  0.146     ],\n",
       "       [ 0.65666667, -0.054     ],\n",
       "       [ 1.85666667,  0.746     ],\n",
       "       [ 1.85666667, -0.454     ],\n",
       "       [ 0.15666667, -0.854     ],\n",
       "       [ 1.05666667,  0.146     ],\n",
       "       [-0.24333333, -0.254     ],\n",
       "       [ 1.85666667, -0.254     ],\n",
       "       [ 0.45666667, -0.354     ],\n",
       "       [ 0.85666667,  0.246     ],\n",
       "       [ 1.35666667,  0.146     ],\n",
       "       [ 0.35666667, -0.254     ],\n",
       "       [ 0.25666667, -0.054     ],\n",
       "       [ 0.55666667, -0.254     ],\n",
       "       [ 1.35666667, -0.054     ],\n",
       "       [ 1.55666667, -0.254     ],\n",
       "       [ 2.05666667,  0.746     ],\n",
       "       [ 0.55666667, -0.254     ],\n",
       "       [ 0.45666667, -0.254     ],\n",
       "       [ 0.25666667, -0.454     ],\n",
       "       [ 1.85666667, -0.054     ],\n",
       "       [ 0.45666667,  0.346     ],\n",
       "       [ 0.55666667,  0.046     ],\n",
       "       [ 0.15666667, -0.054     ],\n",
       "       [ 1.05666667,  0.046     ],\n",
       "       [ 0.85666667,  0.046     ],\n",
       "       [ 1.05666667,  0.046     ],\n",
       "       [-0.04333333, -0.354     ],\n",
       "       [ 0.95666667,  0.146     ],\n",
       "       [ 0.85666667,  0.246     ],\n",
       "       [ 0.85666667, -0.054     ],\n",
       "       [ 0.45666667, -0.554     ],\n",
       "       [ 0.65666667, -0.054     ],\n",
       "       [ 0.35666667,  0.346     ],\n",
       "       [ 0.05666667, -0.054     ]])"
      ]
     },
     "metadata": {},
     "execution_count": 10
    }
   ]
  },
  {
   "cell_type": "code",
   "source": [
    "dot_product = np.dot(deviation.T, deviation)\n",
    "dot_product"
   ],
   "metadata": {
    "colab": {
     "base_uri": "https://localhost:8080/"
    },
    "id": "hBtIupPtSCWr",
    "executionInfo": {
     "status": "ok",
     "timestamp": 1675184287778,
     "user_tz": -330,
     "elapsed": 26,
     "user": {
      "displayName": "2022 18039",
      "userId": "06609566095069720826"
     }
    },
    "outputId": "3f31b0ac-7a00-4c2b-8da4-3c8c75ff99be"
   },
   "execution_count": 11,
   "outputs": [
    {
     "output_type": "execute_result",
     "data": {
      "text/plain": [
       "array([[102.16833333,  -5.851     ],\n",
       "       [ -5.851     ,  28.0126    ]])"
      ]
     },
     "metadata": {},
     "execution_count": 11
    }
   ]
  },
  {
   "cell_type": "code",
   "source": [
    "variance_covariance_matrix = dot_product/149\n",
    "variance_covariance_matrix"
   ],
   "metadata": {
    "colab": {
     "base_uri": "https://localhost:8080/"
    },
    "id": "DQ9xuYtoSOBD",
    "executionInfo": {
     "status": "ok",
     "timestamp": 1675184287778,
     "user_tz": -330,
     "elapsed": 22,
     "user": {
      "displayName": "2022 18039",
      "userId": "06609566095069720826"
     }
    },
    "outputId": "a61b0bec-e334-4588-e37e-d8a44c013e02"
   },
   "execution_count": 12,
   "outputs": [
    {
     "output_type": "execute_result",
     "data": {
      "text/plain": [
       "array([[ 0.68569351, -0.03926846],\n",
       "       [-0.03926846,  0.18800403]])"
      ]
     },
     "metadata": {},
     "execution_count": 12
    }
   ]
  },
  {
   "cell_type": "markdown",
   "source": [
    "#### Crosschecking Covariance from numpy.cov"
   ],
   "metadata": {
    "collapsed": false,
    "id": "32W0PHJiswqg"
   }
  },
  {
   "cell_type": "code",
   "execution_count": 13,
   "outputs": [
    {
     "output_type": "execute_result",
     "data": {
      "text/plain": [
       "array([[ 0.68569351, -0.03926846],\n",
       "       [-0.03926846,  0.18800403]])"
      ]
     },
     "metadata": {},
     "execution_count": 13
    }
   ],
   "source": [
    "np.cov(dataset[['SepalLengthCm','SepalWidthCm']].T)\n"
   ],
   "metadata": {
    "colab": {
     "base_uri": "https://localhost:8080/"
    },
    "id": "Ar2ccHa9swqg",
    "executionInfo": {
     "status": "ok",
     "timestamp": 1675184287778,
     "user_tz": -330,
     "elapsed": 21,
     "user": {
      "displayName": "2022 18039",
      "userId": "06609566095069720826"
     }
    },
    "outputId": "08827dce-8931-4a34-d8e4-4ef8f1f99bc4"
   }
  },
  {
   "cell_type": "markdown",
   "source": [
    "### **Q4:** Project the bivariate data ( sepal length , sepal width) in the direction [3/5, 4/5]. Plot histogram for projected data. Also find the variance of projected data."
   ],
   "metadata": {
    "id": "yawHwKciEzPj"
   }
  },
  {
   "cell_type": "markdown",
   "source": [
    "#### Direction vector"
   ],
   "metadata": {
    "collapsed": false,
    "id": "SeHZq5Kuswqh"
   }
  },
  {
   "cell_type": "code",
   "execution_count": 14,
   "outputs": [
    {
     "output_type": "stream",
     "name": "stdout",
     "text": [
      "[[0.6]\n",
      " [0.8]]\n",
      "[[0.6 0.8]]\n"
     ]
    }
   ],
   "source": [
    "direction = np.array([3/5,4/5]).T\n",
    "direction = direction.reshape(2,1)\n",
    "direction_T = direction.reshape(1,2)\n",
    "print(direction)\n",
    "print(direction_T)"
   ],
   "metadata": {
    "colab": {
     "base_uri": "https://localhost:8080/"
    },
    "id": "-i4ZdT0hswqh",
    "executionInfo": {
     "status": "ok",
     "timestamp": 1675184287779,
     "user_tz": -330,
     "elapsed": 20,
     "user": {
      "displayName": "2022 18039",
      "userId": "06609566095069720826"
     }
    },
    "outputId": "cad11f79-82c2-4b7c-ebaa-ebd5556b76bb"
   }
  },
  {
   "cell_type": "markdown",
   "source": [
    "#### Mean"
   ],
   "metadata": {
    "collapsed": false,
    "id": "cT-L-lGXswqh"
   }
  },
  {
   "cell_type": "code",
   "execution_count": 15,
   "outputs": [
    {
     "output_type": "execute_result",
     "data": {
      "text/plain": [
       "array([5.9492])"
      ]
     },
     "metadata": {},
     "execution_count": 15
    }
   ],
   "source": [
    "mean_in_direction = np.dot(means_sl_sw , direction)\n",
    "mean_in_direction"
   ],
   "metadata": {
    "colab": {
     "base_uri": "https://localhost:8080/"
    },
    "id": "93OICd7cswqh",
    "executionInfo": {
     "status": "ok",
     "timestamp": 1675184287779,
     "user_tz": -330,
     "elapsed": 18,
     "user": {
      "displayName": "2022 18039",
      "userId": "06609566095069720826"
     }
    },
    "outputId": "ab1ed9ee-c27c-403a-a57f-928871bed358"
   }
  },
  {
   "cell_type": "markdown",
   "source": [
    "#### Projected Data:"
   ],
   "metadata": {
    "collapsed": false,
    "id": "tFI2wLcHswqh"
   }
  },
  {
   "cell_type": "code",
   "execution_count": 16,
   "outputs": [],
   "source": [
    "Projected_data = np.matmul(vectors,direction)"
   ],
   "metadata": {
    "id": "_S6lRCL8swqi",
    "executionInfo": {
     "status": "ok",
     "timestamp": 1675184287779,
     "user_tz": -330,
     "elapsed": 16,
     "user": {
      "displayName": "2022 18039",
      "userId": "06609566095069720826"
     }
    }
   }
  },
  {
   "cell_type": "code",
   "execution_count": 17,
   "outputs": [
    {
     "output_type": "display_data",
     "data": {
      "text/plain": [
       "<Figure size 720x864 with 1 Axes>"
      ],
      "image/png": "[encoded data removed]"
     },
     "metadata": {}
    }
   ],
   "source": [
    "plt.figure(figsize = (10,12) ,facecolor='w')\n",
    "plt.hist(dataset['SepalLengthCm'], bins=25, edgecolor='black', color='y')\n",
    "plt.title('Projected Data')\n",
    "plt.show()"
   ],
   "metadata": {
    "colab": {
     "base_uri": "https://localhost:8080/",
     "height": 716
    },
    "id": "HMAtEHG8swqi",
    "executionInfo": {
     "status": "ok",
     "timestamp": 1675184287780,
     "user_tz": -330,
     "elapsed": 17,
     "user": {
      "displayName": "2022 18039",
      "userId": "06609566095069720826"
     }
    },
    "outputId": "68932619-27a3-4212-d60c-31997c580bef"
   }
  },
  {
   "cell_type": "markdown",
   "source": [
    "#### Variance"
   ],
   "metadata": {
    "collapsed": false,
    "id": "IbT4HVYhswqi"
   }
  },
  {
   "cell_type": "code",
   "execution_count": 18,
   "outputs": [
    {
     "output_type": "execute_result",
     "data": {
      "text/plain": [
       "array([[0.32947452]])"
      ]
     },
     "metadata": {},
     "execution_count": 18
    }
   ],
   "source": [
    "d_dot_product = np.dot(direction_T, dot_product)\n",
    "variance = np.dot(d_dot_product,direction)/149\n",
    "\n",
    "variance"
   ],
   "metadata": {
    "colab": {
     "base_uri": "https://localhost:8080/"
    },
    "id": "UbkiyHVTswqi",
    "executionInfo": {
     "status": "ok",
     "timestamp": 1675184287780,
     "user_tz": -330,
     "elapsed": 15,
     "user": {
      "displayName": "2022 18039",
      "userId": "06609566095069720826"
     }
    },
    "outputId": "64a4fa1a-269e-4523-dc97-7f03ad4d3b69"
   }
  },
  {
   "cell_type": "markdown",
   "source": [
    "### **Q5:** Consider the trivariate data with features sepal length, sepal width and petal length and plot the 3D scatter plot , mean. Find the covariance matrix and answer the following:"
   ],
   "metadata": {
    "id": "7HEzhuFSE4HN"
   }
  },
  {
   "cell_type": "markdown",
   "source": [
    "#### 3D Scatter Plot of Trivariate Data:"
   ],
   "metadata": {
    "collapsed": false,
    "id": "xgPRcdIAswqi"
   }
  },
  {
   "cell_type": "code",
   "source": [
    "plt.figure(figsize=(10,10), facecolor='w')\n",
    "plt_axis = plt.axes (projection = '3d')\n",
    "plt_axis.scatter3D(dataset.SepalLengthCm, dataset.SepalWidthCm, dataset.PetalLengthCm, s=50)\n",
    "plt_axis.scatter(sepal_length_mean, sepal_width_mean, mean(dataset['PetalLengthCm']),marker='*', s=80) #mean\n",
    "plt_axis.set_xlabel('SepalLengthCm')\n",
    "plt_axis.set_ylabel('SepalWidthCm')\n",
    "plt_axis.set_zlabel('PetalLengthCm')\n",
    "plt.tight_layout ()\n",
    "plt.show ()"
   ],
   "metadata": {
    "id": "tLdsNegPFI89",
    "colab": {
     "base_uri": "https://localhost:8080/",
     "height": 729
    },
    "executionInfo": {
     "status": "ok",
     "timestamp": 1675184289616,
     "user_tz": -330,
     "elapsed": 1848,
     "user": {
      "displayName": "2022 18039",
      "userId": "06609566095069720826"
     }
    },
    "outputId": "67590d4c-bd3d-4c42-d3fa-6d3dbfc94b85"
   },
   "execution_count": 19,
   "outputs": [
    {
     "output_type": "display_data",
     "data": {
      "text/plain": [
       "<Figure size 720x720 with 1 Axes>"
      ],
      "image/png": "[encoded data removed]"
     },
     "metadata": {}
    }
   ]
  },
  {
   "cell_type": "markdown",
   "source": [
    "#### Covariance Matrix:"
   ],
   "metadata": {
    "collapsed": false,
    "id": "fV6J3qx6swqj"
   }
  },
  {
   "cell_type": "code",
   "execution_count": 20,
   "outputs": [
    {
     "output_type": "execute_result",
     "data": {
      "text/plain": [
       "array([[ 0.68569351, -0.03926846,  1.27368233],\n",
       "       [-0.03926846,  0.18800403, -0.32171275],\n",
       "       [ 1.27368233, -0.32171275,  3.11317942]])"
      ]
     },
     "metadata": {},
     "execution_count": 20
    }
   ],
   "source": [
    "np.cov(dataset[['SepalLengthCm','SepalWidthCm','PetalLengthCm']].T)"
   ],
   "metadata": {
    "colab": {
     "base_uri": "https://localhost:8080/"
    },
    "id": "Z5u5QeN-swqj",
    "executionInfo": {
     "status": "ok",
     "timestamp": 1675184289616,
     "user_tz": -330,
     "elapsed": 14,
     "user": {
      "displayName": "2022 18039",
      "userId": "06609566095069720826"
     }
    },
    "outputId": "7977d0c3-72b7-4af3-c1ba-021dcf93b678"
   }
  },
  {
   "cell_type": "markdown",
   "source": [
    "### **(a)** What is the variance of sepal length, sepal width and petal length?"
   ],
   "metadata": {
    "collapsed": false,
    "id": "RjxtapRdswqj"
   }
  },
  {
   "cell_type": "code",
   "execution_count": 21,
   "outputs": [
    {
     "output_type": "stream",
     "name": "stdout",
     "text": [
      "Variance of Sepal Length:  0.6811222222222223\n",
      "Variance of Sepal Width:  0.18675066666666668\n",
      "Variance of Petal Length:  3.092424888888889\n"
     ]
    }
   ],
   "source": [
    "print('Variance of Sepal Length: ',np.var(dataset.SepalLengthCm))\n",
    "print('Variance of Sepal Width: ',np.var(dataset.SepalWidthCm))\n",
    "print('Variance of Petal Length: ',np.var(dataset.PetalLengthCm))"
   ],
   "metadata": {
    "colab": {
     "base_uri": "https://localhost:8080/"
    },
    "id": "C-bcPoLAswqj",
    "executionInfo": {
     "status": "ok",
     "timestamp": 1675184289616,
     "user_tz": -330,
     "elapsed": 12,
     "user": {
      "displayName": "2022 18039",
      "userId": "06609566095069720826"
     }
    },
    "outputId": "96212008-3e8a-4383-8b71-cfd2f21314fb"
   }
  },
  {
   "cell_type": "markdown",
   "source": [
    "#### (b) What is the correlation between sepal length and sepal width?"
   ],
   "metadata": {
    "collapsed": false,
    "id": "sRs656ZKswqj"
   }
  },
  {
   "cell_type": "code",
   "execution_count": 22,
   "outputs": [
    {
     "output_type": "stream",
     "name": "stdout",
     "text": [
      "Correlation between Sepal length and Sepal Width is:\n",
      "                 SepalLengthCm  SepalWidthCm\n",
      "SepalLengthCm       1.000000     -0.109369\n",
      "SepalWidthCm       -0.109369      1.000000\n"
     ]
    }
   ],
   "source": [
    "print('Correlation between Sepal length and Sepal Width is:\\n ',dataset[['SepalLengthCm','SepalWidthCm']].corr())"
   ],
   "metadata": {
    "colab": {
     "base_uri": "https://localhost:8080/"
    },
    "id": "5feljZnjswqj",
    "executionInfo": {
     "status": "ok",
     "timestamp": 1675184289617,
     "user_tz": -330,
     "elapsed": 12,
     "user": {
      "displayName": "2022 18039",
      "userId": "06609566095069720826"
     }
    },
    "outputId": "1d8cb780-b747-4a02-e582-8392718a1905"
   }
  },
  {
   "cell_type": "markdown",
   "source": [
    "### (c) What is the correlation between sepal length and petal length ?"
   ],
   "metadata": {
    "collapsed": false,
    "id": "V4sxRFWnswqk"
   }
  },
  {
   "cell_type": "code",
   "execution_count": 23,
   "outputs": [
    {
     "output_type": "stream",
     "name": "stdout",
     "text": [
      "Correlation between Sepal length and Petal length is:\n",
      "                 SepalLengthCm  PetalLengthCm\n",
      "SepalLengthCm       1.000000       0.871754\n",
      "PetalLengthCm       0.871754       1.000000\n"
     ]
    }
   ],
   "source": [
    "print('Correlation between Sepal length and Petal length is:\\n ',dataset[['SepalLengthCm','PetalLengthCm']].corr())"
   ],
   "metadata": {
    "colab": {
     "base_uri": "https://localhost:8080/"
    },
    "id": "QeBTN6kMswqk",
    "executionInfo": {
     "status": "ok",
     "timestamp": 1675184289617,
     "user_tz": -330,
     "elapsed": 10,
     "user": {
      "displayName": "2022 18039",
      "userId": "06609566095069720826"
     }
    },
    "outputId": "068936fb-c557-44a8-8cd7-df85faae262f"
   }
  },
  {
   "cell_type": "markdown",
   "source": [
    "### (d) What is the correlation between sepal width and petal length?"
   ],
   "metadata": {
    "collapsed": false,
    "id": "IU-xhuk8swqk"
   }
  },
  {
   "cell_type": "code",
   "execution_count": 24,
   "outputs": [
    {
     "output_type": "stream",
     "name": "stdout",
     "text": [
      "Correlation between Sepal Width and Petal length is:\n",
      "                 SepalWidthCm  PetalLengthCm\n",
      "SepalWidthCm       1.000000      -0.420516\n",
      "PetalLengthCm     -0.420516       1.000000\n"
     ]
    }
   ],
   "source": [
    "print('Correlation between Sepal Width and Petal length is:\\n ',dataset[['SepalWidthCm','PetalLengthCm']].corr())"
   ],
   "metadata": {
    "colab": {
     "base_uri": "https://localhost:8080/"
    },
    "id": "TjIntz9oswqk",
    "executionInfo": {
     "status": "ok",
     "timestamp": 1675184289617,
     "user_tz": -330,
     "elapsed": 8,
     "user": {
      "displayName": "2022 18039",
      "userId": "06609566095069720826"
     }
    },
    "outputId": "47cb88f9-d7ec-49dc-901d-2aed62682171"
   }
  },
  {
   "cell_type": "code",
   "source": [],
   "metadata": {
    "id": "JroAyA10uWon",
    "executionInfo": {
     "status": "ok",
     "timestamp": 1675184289619,
     "user_tz": -330,
     "elapsed": 8,
     "user": {
      "displayName": "2022 18039",
      "userId": "06609566095069720826"
     }
    }
   },
   "execution_count": 24,
   "outputs": []
  }
 ]
}
